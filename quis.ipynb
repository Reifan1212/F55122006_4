{
  "nbformat": 4,
  "nbformat_minor": 0,
  "metadata": {
    "colab": {
      "provenance": [],
      "authorship_tag": "ABX9TyM7CeeIHhee7eF4XICZFe1D",
      "include_colab_link": true
    },
    "kernelspec": {
      "name": "python3",
      "display_name": "Python 3"
    },
    "language_info": {
      "name": "python"
    }
  },
  "cells": [
    {
      "cell_type": "markdown",
      "metadata": {
        "id": "view-in-github",
        "colab_type": "text"
      },
      "source": [
        "<a href=\"https://colab.research.google.com/github/Reifan1212/F55122006_4/blob/master/quis.ipynb\" target=\"_parent\"><img src=\"https://colab.research.google.com/assets/colab-badge.svg\" alt=\"Open In Colab\"/></a>"
      ]
    },
    {
      "cell_type": "code",
      "execution_count": null,
      "metadata": {
        "colab": {
          "base_uri": "https://localhost:8080/",
          "height": 236
        },
        "id": "EMz2k-wFLh-j",
        "outputId": "3dc8b74a-d3ec-48cf-d12b-53aefd488dc0"
      },
      "outputs": [
        {
          "output_type": "error",
          "ename": "error",
          "evalue": "OpenCV(4.8.0) /io/opencv/modules/imgproc/src/color.cpp:182: error: (-215:Assertion failed) !_src.empty() in function 'cvtColor'\n",
          "traceback": [
            "\u001b[0;31m---------------------------------------------------------------------------\u001b[0m",
            "\u001b[0;31merror\u001b[0m                                     Traceback (most recent call last)",
            "\u001b[0;32m<ipython-input-1-88a0b06565e8>\u001b[0m in \u001b[0;36m<cell line: 12>\u001b[0;34m()\u001b[0m\n\u001b[1;32m     10\u001b[0m \u001b[0;34m\u001b[0m\u001b[0m\n\u001b[1;32m     11\u001b[0m \u001b[0;31m# Konversi gambar OpenCV ke format PIL\u001b[0m\u001b[0;34m\u001b[0m\u001b[0;34m\u001b[0m\u001b[0m\n\u001b[0;32m---> 12\u001b[0;31m \u001b[0mgambar_pil\u001b[0m \u001b[0;34m=\u001b[0m \u001b[0mImage\u001b[0m\u001b[0;34m.\u001b[0m\u001b[0mfromarray\u001b[0m\u001b[0;34m(\u001b[0m\u001b[0mcv2\u001b[0m\u001b[0;34m.\u001b[0m\u001b[0mcvtColor\u001b[0m\u001b[0;34m(\u001b[0m\u001b[0mgambar_opencv\u001b[0m\u001b[0;34m,\u001b[0m \u001b[0mcv2\u001b[0m\u001b[0;34m.\u001b[0m\u001b[0mCOLOR_BGR2RGB\u001b[0m\u001b[0;34m)\u001b[0m\u001b[0;34m)\u001b[0m\u001b[0;34m\u001b[0m\u001b[0;34m\u001b[0m\u001b[0m\n\u001b[0m\u001b[1;32m     13\u001b[0m \u001b[0;34m\u001b[0m\u001b[0m\n\u001b[1;32m     14\u001b[0m \u001b[0;31m# Menampilkan gambar asli menggunakan PIL\u001b[0m\u001b[0;34m\u001b[0m\u001b[0;34m\u001b[0m\u001b[0m\n",
            "\u001b[0;31merror\u001b[0m: OpenCV(4.8.0) /io/opencv/modules/imgproc/src/color.cpp:182: error: (-215:Assertion failed) !_src.empty() in function 'cvtColor'\n"
          ]
        }
      ],
      "source": [
        "import cv2\n",
        "from PIL import Image\n",
        "import numpy as np\n",
        "\n",
        "# Path gambar yang akan dibaca\n",
        "gambar_path = 'path/to/your/image.jpg'\n",
        "\n",
        "# Membaca gambar menggunakan OpenCV\n",
        "gambar_opencv = cv2.imread(gambar_path)\n",
        "\n",
        "# Konversi gambar OpenCV ke format PIL\n",
        "gambar_pil = Image.fromarray(cv2.cvtColor(gambar_opencv, cv2.COLOR_BGR2RGB))\n",
        "\n",
        "# Menampilkan gambar asli menggunakan PIL\n",
        "gambar_pil.show()\n",
        "\n",
        "# Transformasi rotasi\n",
        "def rotate_image(img, angle):\n",
        "    return img.rotate(angle)\n",
        "\n",
        "# Transformasi flip vertikal\n",
        "def flip_vertical(img):\n",
        "    return img.transpose(Image.FLIP_TOP_BOTTOM)\n",
        "\n",
        "# Transformasi flip horizontal\n",
        "def flip_horizontal(img):\n",
        "    return img.transpose(Image.FLIP_LEFT_RIGHT)\n",
        "\n",
        "# Deteksi Tepi\n",
        "def sobel_edge_detection(img):\n",
        "    gray_img = cv2.cvtColor(img, cv2.COLOR_RGB2GRAY)\n",
        "    sobel_edges = cv2.Sobel(gray_img, cv2.CV_64F, 1, 0, ksize=5)\n",
        "    return sobel_edges\n",
        "\n",
        "def canny_edge_detection(img):\n",
        "    gray_img = cv2.cvtColor(img, cv2.COLOR_RGB2GRAY)\n",
        "    canny_edges = cv2.Canny(gray_img, 100, 200)\n",
        "    return canny_edges\n",
        "\n",
        "# Cropping\n",
        "def random_crop(img):\n",
        "    width, height = img.size\n",
        "    crop_size = (width // 2, height // 2)\n",
        "    x = np.random.randint(0, width - crop_size[0])\n",
        "    y = np.random.randint(0, height - crop_size[1])\n",
        "    return img.crop((x, y, x + crop_size[0], y + crop_size[1]))\n",
        "\n",
        "def half_size_center_crop(img):\n",
        "    width, height = img.size\n",
        "    crop_size = (width // 2, height // 2)\n",
        "    return img.crop((width // 4, height // 4, width * 3 // 4, height * 3 // 4))\n",
        "\n",
        "# Transformasi Gambar\n",
        "def grayscale(img):\n",
        "    return img.convert('L')\n",
        "\n",
        "def invert(img):\n",
        "    return Image.eval(img, lambda x: 255 - x)\n",
        "\n",
        "# Penambahan Noise\n",
        "def salt_and_pepper_noise(img, noise_amount):\n",
        "    noisy_img = img.copy()\n",
        "    width, height = noisy_img.size\n",
        "    noise = np.random.rand(width, height)\n",
        "    noisy_img.putdata([(0, 0, 0) if noise[i, j] < noise_amount / 2 else (255, 255, 255) if noise[i, j] > 1 - noise_amount / 2 else pixel for i, j, pixel in noisy_img.getdata()])\n",
        "    return noisy_img\n",
        "\n",
        "def gaussian_noise(img):\n",
        "    noisy_img = img.copy()\n",
        "    noise = np.random.normal(0, 25, (img.size[1], img.size[0], 3)).astype(np.uint8)\n",
        "    noisy_img = np.clip(np.add(noisy_img, noise), 0, 255)\n",
        "    return Image.fromarray(noisy_img)\n",
        "\n",
        "# Menjalankan fungsi\n",
        "# Deteksi Tepi\n",
        "sobel_edges = sobel_edge_detection(gambar_opencv)\n",
        "canny_edges = canny_edge_detection(gambar_opencv)\n",
        "\n",
        "# Cropping\n",
        "cropped_image = random_crop(gambar_pil)\n",
        "half_size_cropped_image = half_size_center_crop(gambar_pil)\n",
        "\n",
        "# Transformasi Gambar\n",
        "grayscale_image = grayscale(gambar_pil)\n",
        "inverted_image = invert(gambar_pil)\n",
        "\n",
        "# Penambahan Noise\n",
        "noisy_image_salt_pepper = salt_and_pepper_noise(gambar_pil, 0.05)\n",
        "noisy_image_gaussian = gaussian_noise(gambar_pil)\n",
        "\n",
        "# Transformasi Geometri\n",
        "angle_rotation = 45\n",
        "rotated_image = rotate_image(gambar_pil, angle_rotation)\n",
        "flipped_vertical_image = flip_vertical(gambar_pil)\n",
        "flipped_horizontal_image = flip_horizontal(gambar_pil)\n",
        "\n",
        "# Menampilkan Hasil\n",
        "rotated_image.show()\n",
        "flipped_vertical_image.show()\n",
        "flipped_horizontal_image.show()\n"
      ]
    }
  ]
}